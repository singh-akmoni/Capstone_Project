{
 "cells": [
  {
   "cell_type": "code",
   "execution_count": null,
   "id": "1f0297e8",
   "metadata": {},
   "outputs": [],
   "source": [
    "# Importing relevant libraries\n",
    "from yahoo_fin.stock_info import tickers_dow\n",
    "from scipy.stats as stats\n",
    "import timeit\n",
    "import pandas as pd\n",
    "from yfinance as yf\n",
    "import numpy as np\n",
    "\n",
    "asset_class = ['equity', 'commodity', 'IR', 'Fx']\n",
    "max_weights = [0.25, 0.25, 0.25, 0.25]"
   ]
  },
  {
   "cell_type": "code",
   "execution_count": null,
   "id": "79e2b04a",
   "metadata": {},
   "outputs": [],
   "source": [
    "# Data extraction for all the asset class\n",
    "extracted_data = yf.download(asset_list, start = '2010-01-01', end = '2020-01-01')\n",
    "data = extracted_data['Adj_Close'].dropna()\n",
    "returns = data.pct_change(1)\n",
    "returns = returns[asset_list].dropna()"
   ]
  },
  {
   "cell_type": "code",
   "execution_count": null,
   "id": "c5f0115e",
   "metadata": {},
   "outputs": [],
   "source": [
    "# Variance-Covariance VaR Method\n",
    "def parametric_var(returns, weights, conf_int):\n",
    "    portfolio_returns = np.sum(weights*returns, axis=1)\n",
    "    mean_returns = portfolio_returns.mean()\n",
    "    std_returns = portfolio_returns.std()\n",
    "    zvalue = stats.norm.ppf(conf_int)\n",
    "    par_VaR = mean_returns + zvalue*std_returns\n",
    "    return par_VaR"
   ]
  },
  {
   "cell_type": "code",
   "execution_count": null,
   "id": "82041879",
   "metadata": {},
   "outputs": [],
   "source": [
    "# Monte Carlo Simulation VaR Method\n",
    "def monte_carlo_var(returns, weights, conf_int, sims=1000):\n",
    "    corr_mat = returns.corr()\n",
    "    L = np.linalg.cholesky(corr_mat)\n",
    "    mean_returns = returns.mean()\n",
    "    std_returns = returns.std()\n",
    "    portfolio_returns= []\n",
    "    for i in range(sims):\n",
    "        z_value = np.random.randn(1, len(weights))\n",
    "        z_dash = np.transpose(np.matmul(L, np.transpose(z_values)))\n",
    "        return_run = returns.mean().values + returns.std().values.z_dash\n",
    "        portfolio_returns_run = np.sum(weights*return_run, axis=1)\n",
    "        portfolio_returns.append(portfolio_returns_run)\n",
    "    MCS_VaR = np.percentile(portfolio_returns, 1-conf_int)\n",
    "    return MCS_VaR\n",
    "        "
   ]
  },
  {
   "cell_type": "code",
   "execution_count": null,
   "id": "6c601c01",
   "metadata": {},
   "outputs": [],
   "source": [
    "# Historical Simulation VaR method\n",
    "def historical_simulation_var(returns, weights, conf_int):\n",
    "    portfolio_returns = np.sum(weights*returns, axis=1)\n",
    "    historic_var = -np.percentile(portfolio_returns, (1-conf_int)*100)\n",
    "    return historic_var"
   ]
  },
  {
   "cell_type": "code",
   "execution_count": null,
   "id": "4b1b7553",
   "metadata": {},
   "outputs": [],
   "source": [
    "# VaR calculation comparison\n",
    "def var_calc_comparison(returns, weights, conf_int, sims=1000):\n",
    "    start_time = timeit.default_timer()\n",
    "    vars_cal = []\n",
    "    vars_cal.append(parametric_var(returns, weights, 0.99))\n",
    "    t1 = timeit.default_timer()\n",
    "    vars_cal.append(historical_simulation_var(returns, weights, 0.99))\n",
    "    t2 = timeit.default_timer()\n",
    "    vars_cal.append(monte_carlo_var(returns, weights, 0.99, 1000))\n",
    "    t3 = timeit.default_timer()\n",
    "    times = [t1-start_time, t2-start_time, t3-start_time]\n"
   ]
  },
  {
   "cell_type": "code",
   "execution_count": null,
   "id": "d0eeb5b3",
   "metadata": {},
   "outputs": [],
   "source": [
    "# Weights optimization\n",
    "def weights_optimization(returns, max_weights, target_var, conf_inf, no_of_sims):\n",
    "    ret_var = 0.0\n",
    "    p = 0\n",
    "    while(p<=no_of_sims):\n",
    "        wts = np.random.random(len(asset_class))\n",
    "        wts = wts/np.sum(wts)\n",
    "        if (wts<=np.array(max_weights)).all():\n",
    "            port_returns = np.sum(wts.returns, axis=1)\n",
    "            total_return = ((1+port_returns).cumprod()-1)\n",
    "            total_return = total_return[-1]\n",
    "            var = historical_simulation_var(returns, wts, conf_int)\n",
    "            if var<=target_var and total_return/var >= ret_var:\n",
    "                final_weights = wts\n",
    "                final_var = var\n",
    "                final_total_return = total_return\n",
    "                ret_var = total_return/var\n",
    "            p=p+1\n",
    "            \n",
    "\n",
    "weights_optimization(returns, max_weights, 0.04, 0.99, 100)            \n",
    "        "
   ]
  }
 ],
 "metadata": {
  "kernelspec": {
   "display_name": "Python 3",
   "language": "python",
   "name": "python3"
  },
  "language_info": {
   "codemirror_mode": {
    "name": "ipython",
    "version": 3
   },
   "file_extension": ".py",
   "mimetype": "text/x-python",
   "name": "python",
   "nbconvert_exporter": "python",
   "pygments_lexer": "ipython3",
   "version": "3.9.2"
  }
 },
 "nbformat": 4,
 "nbformat_minor": 5
}
